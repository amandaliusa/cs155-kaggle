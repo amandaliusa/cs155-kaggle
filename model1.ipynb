{
 "cells": [
  {
   "cell_type": "code",
   "execution_count": 1,
   "metadata": {},
   "outputs": [],
   "source": [
    "import numpy as np\n",
    "import pandas as pd\n",
    "import matplotlib.pyplot as plt\n",
    "%matplotlib inline\n",
    "\n",
    "import torch\n",
    "import torch.nn as nn\n",
    "import torch.nn.functional as F\n",
    "import torch.optim as optim"
   ]
  },
  {
   "cell_type": "markdown",
   "metadata": {},
   "source": [
    "## Load and preprocess data "
   ]
  },
  {
   "cell_type": "code",
   "execution_count": 2,
   "metadata": {},
   "outputs": [],
   "source": [
    "df_train = pd.read_csv('train.csv', index_col=0)\n",
    "df_test = pd.read_csv('test.csv', index_col=0)"
   ]
  },
  {
   "cell_type": "code",
   "execution_count": 3,
   "metadata": {},
   "outputs": [
    {
     "name": "stdout",
     "output_type": "stream",
     "text": [
      "last_price                   0\n",
      "mid                          0\n",
      "opened_position_qty     120982\n",
      "closed_position_qty     120982\n",
      "transacted_qty               0\n",
      "d_open_interest              0\n",
      "bid1                         0\n",
      "bid2                         0\n",
      "bid3                         0\n",
      "bid4                         0\n",
      "bid5                         0\n",
      "ask1                         0\n",
      "ask2                         0\n",
      "ask3                         0\n",
      "ask4                         0\n",
      "ask5                         0\n",
      "bid1vol                      0\n",
      "bid2vol                      0\n",
      "bid3vol                      0\n",
      "bid4vol                      0\n",
      "bid5vol                      0\n",
      "ask1vol                      0\n",
      "ask2vol                      0\n",
      "ask3vol                      0\n",
      "ask4vol                      0\n",
      "ask5vol                      0\n",
      "y                            0\n",
      "dtype: int64\n",
      "last_price                  0\n",
      "mid                         0\n",
      "opened_position_qty     51478\n",
      "closed_position_qty     51478\n",
      "transacted_qty              0\n",
      "d_open_interest             0\n",
      "bid1                        0\n",
      "bid2                        0\n",
      "bid3                        0\n",
      "bid4                        0\n",
      "bid5                        0\n",
      "ask1                        0\n",
      "ask2                        0\n",
      "ask3                        0\n",
      "ask4                        0\n",
      "ask5                        0\n",
      "bid1vol                     0\n",
      "bid2vol                     0\n",
      "bid3vol                     0\n",
      "bid4vol                     0\n",
      "bid5vol                     0\n",
      "ask1vol                     0\n",
      "ask2vol                     0\n",
      "ask3vol                     0\n",
      "ask4vol                     0\n",
      "ask5vol                     0\n",
      "dtype: int64\n",
      "1.3345156490306558\n",
      "1.0\n",
      "1.9670248107878576\n",
      "1.0\n"
     ]
    }
   ],
   "source": [
    "# identify and replace missing values\n",
    "print(df_train.isnull().sum())\n",
    "print(df_test.isnull().sum())\n",
    "\n",
    "print(df_train['opened_position_qty '].mean())\n",
    "print(df_train['opened_position_qty '].median())\n",
    "\n",
    "print(df_train['closed_position_qty'].mean())\n",
    "print(df_train['closed_position_qty'].median())\n",
    "\n",
    "# replace missing values with median (less sensitive to outliers)\n",
    "df_train['opened_position_qty '].fillna(df_train['opened_position_qty '].median(),inplace=True)\n",
    "df_test['opened_position_qty '].fillna(df_train['opened_position_qty '].median(),inplace=True)\n",
    "df_train['closed_position_qty'].fillna(df_train['closed_position_qty'].median(),inplace=True)\n",
    "df_test['closed_position_qty'].fillna(df_train['closed_position_qty'].median(), inplace=True)"
   ]
  },
  {
   "cell_type": "code",
   "execution_count": 4,
   "metadata": {},
   "outputs": [],
   "source": [
    "# Normalize data\n",
    "from sklearn import preprocessing\n",
    "\n",
    "x_train = df_train[df_train.columns[:26]]\n",
    "y_train = df_train['y']\n",
    "x_test = df_test\n",
    "\n",
    "# Normalize training data by subtracting mean and scaling to unit variance\n",
    "std_scale = preprocessing.StandardScaler().fit(x_train)\n",
    "x_train_norm = std_scale.transform(x_train)\n",
    "x_train = pd.DataFrame(x_train_norm, index=x_train.index, columns=x_train.columns)\n",
    "\n",
    "# Normalize testing data by using mean and SD of training set\n",
    "x_test_norm = std_scale.transform(x_test)\n",
    "x_test = pd.DataFrame(x_test_norm, index=x_test.index, columns=x_test.columns) "
   ]
  },
  {
   "cell_type": "markdown",
   "metadata": {},
   "source": [
    "## Save results"
   ]
  },
  {
   "cell_type": "code",
   "execution_count": 5,
   "metadata": {},
   "outputs": [],
   "source": [
    "#df_test['Predicted'] = model.predict_proba(x_test)[:,1]\n",
    "#df_test[['Predicted']].to_csv('submission.csv')"
   ]
  }
 ],
 "metadata": {
  "kernelspec": {
   "display_name": "Python 3",
   "language": "python",
   "name": "python3"
  },
  "language_info": {
   "codemirror_mode": {
    "name": "ipython",
    "version": 3
   },
   "file_extension": ".py",
   "mimetype": "text/x-python",
   "name": "python",
   "nbconvert_exporter": "python",
   "pygments_lexer": "ipython3",
   "version": "3.6.5"
  }
 },
 "nbformat": 4,
 "nbformat_minor": 2
}
