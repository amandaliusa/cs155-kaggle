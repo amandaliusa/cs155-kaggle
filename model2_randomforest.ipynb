{
 "cells": [
  {
   "cell_type": "code",
   "execution_count": 25,
   "metadata": {},
   "outputs": [],
   "source": [
    "import numpy as np\n",
    "import pandas as pd\n",
    "import matplotlib.pyplot as plt\n",
    "%matplotlib inline\n",
    "from sklearn.ensemble import RandomForestClassifier"
   ]
  },
  {
   "cell_type": "markdown",
   "metadata": {},
   "source": [
    "## Load and preprocess data "
   ]
  },
  {
   "cell_type": "code",
   "execution_count": 42,
   "metadata": {},
   "outputs": [],
   "source": [
    "df_train = pd.read_csv('train.csv', index_col=0)\n",
    "df_test = pd.read_csv('test.csv', index_col=0)"
   ]
  },
  {
   "cell_type": "code",
   "execution_count": 43,
   "metadata": {},
   "outputs": [
    {
     "name": "stdout",
     "output_type": "stream",
     "text": [
      "last_price                   0\n",
      "mid                          0\n",
      "opened_position_qty     172460\n",
      "closed_position_qty     172460\n",
      "transacted_qty               0\n",
      "d_open_interest              0\n",
      "bid1                         0\n",
      "bid2                         0\n",
      "bid3                         0\n",
      "bid4                         0\n",
      "bid5                         0\n",
      "ask1                         0\n",
      "ask2                         0\n",
      "ask3                         0\n",
      "ask4                         0\n",
      "ask5                         0\n",
      "bid1vol                      0\n",
      "bid2vol                      0\n",
      "bid3vol                      0\n",
      "bid4vol                      0\n",
      "bid5vol                      0\n",
      "ask1vol                      0\n",
      "ask2vol                      0\n",
      "ask3vol                      0\n",
      "ask4vol                      0\n",
      "ask5vol                      0\n",
      "y                            0\n",
      "dtype: int64\n",
      "last_price                  0\n",
      "mid                         0\n",
      "opened_position_qty     53656\n",
      "closed_position_qty     53656\n",
      "transacted_qty              0\n",
      "d_open_interest             0\n",
      "bid1                        0\n",
      "bid2                        0\n",
      "bid3                        0\n",
      "bid4                        0\n",
      "bid5                        0\n",
      "ask1                        0\n",
      "ask2                        0\n",
      "ask3                        0\n",
      "ask4                        0\n",
      "ask5                        0\n",
      "bid1vol                     0\n",
      "bid2vol                     0\n",
      "bid3vol                     0\n",
      "bid4vol                     0\n",
      "bid5vol                     0\n",
      "ask1vol                     0\n",
      "ask2vol                     0\n",
      "ask3vol                     0\n",
      "ask4vol                     0\n",
      "ask5vol                     0\n",
      "dtype: int64\n",
      "1.4005834444656124\n",
      "1.0\n",
      "1.9642765288626405\n",
      "1.0\n"
     ]
    }
   ],
   "source": [
    "# identify and replace missing values\n",
    "print(df_train.isnull().sum())\n",
    "print(df_test.isnull().sum())\n",
    "\n",
    "print(df_train['opened_position_qty '].mean())\n",
    "print(df_train['opened_position_qty '].median())\n",
    "\n",
    "print(df_train['closed_position_qty'].mean())\n",
    "print(df_train['closed_position_qty'].median())\n",
    "\n",
    "# replace missing values with median (less sensitive to outliers)\n",
    "df_train['opened_position_qty '].fillna(df_train['opened_position_qty '].median(),inplace=True)\n",
    "df_test['opened_position_qty '].fillna(df_train['opened_position_qty '].median(),inplace=True)\n",
    "df_train['closed_position_qty'].fillna(df_train['closed_position_qty'].median(),inplace=True)\n",
    "df_test['closed_position_qty'].fillna(df_train['closed_position_qty'].median(), inplace=True)"
   ]
  },
  {
   "cell_type": "code",
   "execution_count": 44,
   "metadata": {},
   "outputs": [],
   "source": [
    "# Normalize data\n",
    "from sklearn import preprocessing\n",
    "\n",
    "x_train = df_train[df_train.columns[:26]]\n",
    "y_train = df_train['y']\n",
    "x_test = df_test\n",
    "\n",
    "# Normalize training data by subtracting mean and scaling to unit variance\n",
    "std_scale = preprocessing.StandardScaler().fit(x_train)\n",
    "x_train_norm = std_scale.transform(x_train)\n",
    "x_train = pd.DataFrame(x_train_norm, index=x_train.index, columns=x_train.columns)\n",
    "\n",
    "# Normalize testing data by using mean and SD of training set\n",
    "x_test_norm = std_scale.transform(x_test)\n",
    "x_test = pd.DataFrame(x_test_norm, index=x_test.index, columns=x_test.columns) "
   ]
  },
  {
   "cell_type": "code",
   "execution_count": 45,
   "metadata": {},
   "outputs": [],
   "source": [
    "# Split training and validation data \n",
    "from sklearn.model_selection import train_test_split\n",
    "x_train, x_val, y_train, y_val = train_test_split(x_train, y_train, test_size=0.2)"
   ]
  },
  {
   "cell_type": "markdown",
   "metadata": {},
   "source": [
    "## Build and train model"
   ]
  },
  {
   "cell_type": "code",
   "execution_count": 46,
   "metadata": {},
   "outputs": [
    {
     "name": "stdout",
     "output_type": "stream",
     "text": [
      "train auc: 0.9951553586200917\n",
      "val auc: 0.5726899890244969\n"
     ]
    }
   ],
   "source": [
    "from sklearn.metrics import roc_curve, auc\n",
    "n_estimators = 64\n",
    "max_depth=35\n",
    "\n",
    "clf = RandomForestClassifier(n_estimators=n_estimators, max_depth=35, criterion='gini', n_jobs=-1)\n",
    "clf.fit(x_train, y_train)\n",
    "train_pred = clf.predict(x_train)\n",
    "false_positive_rate, true_positive_rate, thresholds = roc_curve(y_train, train_pred)\n",
    "roc_auc = auc(false_positive_rate, true_positive_rate)\n",
    "print('train auc: {}'.format(roc_auc))\n",
    "y_pred = clf.predict(x_val)\n",
    "false_positive_rate, true_positive_rate, thresholds = roc_curve(y_val, y_pred)\n",
    "roc_auc = auc(false_positive_rate, true_positive_rate)\n",
    "print('val auc: {}'.format(roc_auc))"
   ]
  },
  {
   "cell_type": "code",
   "execution_count": 21,
   "metadata": {},
   "outputs": [
    {
     "name": "stdout",
     "output_type": "stream",
     "text": [
      "5\n",
      "10\n",
      "15\n",
      "20\n",
      "25\n",
      "30\n",
      "35\n",
      "40\n",
      "45\n",
      "50\n"
     ]
    }
   ],
   "source": [
    "# tune for maximum depth\n",
    "\n",
    "max_depths = [i for i in range(5, 51, 5)]\n",
    "train_results = []\n",
    "test_results = []\n",
    "for max_depth in max_depths:\n",
    "   print(max_depth)\n",
    "   clf = RandomForestClassifier(n_estimators = 64, max_depth=max_depth, n_jobs=-1)\n",
    "   clf.fit(x_train, y_train)\n",
    "   train_pred = clf.predict(x_train)\n",
    "   false_positive_rate, true_positive_rate, thresholds = roc_curve(y_train, train_pred)\n",
    "   roc_auc = auc(false_positive_rate, true_positive_rate)\n",
    "   train_results.append(roc_auc)\n",
    "   y_pred = clf.predict(x_val)\n",
    "   false_positive_rate, true_positive_rate, thresholds = roc_curve(y_val, y_pred)\n",
    "   roc_auc = auc(false_positive_rate, true_positive_rate)\n",
    "   test_results.append(roc_auc)\n"
   ]
  },
  {
   "cell_type": "code",
   "execution_count": 23,
   "metadata": {},
   "outputs": [
    {
     "data": {
      "image/png": "[encoded data removed]",
      "text/plain": [
       "<Figure size 432x288 with 1 Axes>"
      ]
     },
     "metadata": {},
     "output_type": "display_data"
    }
   ],
   "source": [
    "from matplotlib.legend_handler import HandlerLine2D\n",
    "line1, = plt.plot(max_depths, train_results, 'b', label='Train AUC')\n",
    "line2, = plt.plot(max_depths, test_results, 'r', label='Test AUC')\n",
    "plt.legend(handler_map={line1: HandlerLine2D(numpoints=2)})\n",
    "plt.ylabel('AUC score')\n",
    "plt.xlabel('Tree depth')\n",
    "plt.savefig('tree depth')\n",
    "plt.show()"
   ]
  },
  {
   "cell_type": "code",
   "execution_count": 33,
   "metadata": {},
   "outputs": [
    {
     "name": "stdout",
     "output_type": "stream",
     "text": [
      "0.9964617306458692\n",
      "[0.04380894 0.04002972 0.01659711 0.0163494  0.02358494 0.02434179\n",
      " 0.03429429 0.03322396 0.03320424 0.03383375 0.03486082 0.03450899\n",
      " 0.03340845 0.03344581 0.0340356  0.03482751 0.04144936 0.04542063\n",
      " 0.05090293 0.05186977 0.05225915 0.05820432 0.04367556 0.05032861\n",
      " 0.05024588 0.05128846]\n"
     ]
    }
   ],
   "source": [
    "# evaluate training classification accuracy and feature importance\n",
    "training_accuracy = clf.score(x_train, y_train)\n",
    "print(training_accuracy)\n",
    "print(clf.feature_importances_)"
   ]
  },
  {
   "cell_type": "markdown",
   "metadata": {},
   "source": [
    "## Save results"
   ]
  },
  {
   "cell_type": "code",
   "execution_count": 34,
   "metadata": {},
   "outputs": [],
   "source": [
    "df_test['Predicted'] = clf.predict_proba(x_test)[:,1]\n",
    "df_test[['Predicted']].to_csv('submission_model2.csv')"
   ]
  }
 ],
 "metadata": {
  "kernelspec": {
   "display_name": "Python 3",
   "language": "python",
   "name": "python3"
  },
  "language_info": {
   "codemirror_mode": {
    "name": "ipython",
    "version": 3
   },
   "file_extension": ".py",
   "mimetype": "text/x-python",
   "name": "python",
   "nbconvert_exporter": "python",
   "pygments_lexer": "ipython3",
   "version": "3.6.5"
  }
 },
 "nbformat": 4,
 "nbformat_minor": 2
}
