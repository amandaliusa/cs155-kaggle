{
  "nbformat": 4,
  "nbformat_minor": 0,
  "metadata": {
    "colab": {
      "name": "random_forest",
      "provenance": [],
      "authorship_tag": "ABX9TyP+RtIt4l0oAcEQI+RT2L5J",
      "include_colab_link": true
    },
    "kernelspec": {
      "name": "python3",
      "display_name": "Python 3"
    }
  },
  "cells": [
    {
      "cell_type": "markdown",
      "metadata": {
        "id": "view-in-github",
        "colab_type": "text"
      },
      "source": [
        "<a href=\"https://colab.research.google.com/github/amandaliusa/cs155-kaggle/blob/master/random_forest.ipynb\" target=\"_parent\"><img src=\"https://colab.research.google.com/assets/colab-badge.svg\" alt=\"Open In Colab\"/></a>"
      ]
    },
    {
      "cell_type": "code",
      "metadata": {
        "id": "F3aEadZWzJkb",
        "colab_type": "code",
        "colab": {}
      },
      "source": [
        "import numpy as np\n",
        "import pandas as pd\n",
        "import matplotlib.pyplot as plt\n",
        "%matplotlib inline\n",
        "from sklearn.ensemble import RandomForestClassifier\n",
        "from sklearn.ensemble import AdaBoostClassifier\n",
        "from sklearn.metrics import roc_curve, auc"
      ],
      "execution_count": 0,
      "outputs": []
    },
    {
      "cell_type": "code",
      "metadata": {
        "id": "NzkpCGVpzbc_",
        "colab_type": "code",
        "colab": {}
      },
      "source": [
        "from google.colab import files\n",
        "uploaded = files.upload()"
      ],
      "execution_count": 0,
      "outputs": []
    },
    {
      "cell_type": "code",
      "metadata": {
        "id": "3uFvISaIzb_c",
        "colab_type": "code",
        "colab": {}
      },
      "source": [
        "import io\n",
        "df_train = pd.read_csv(io.BytesIO(uploaded['train.csv']))\n",
        "df_test = pd.read_csv(io.BytesIO(uploaded['test.csv'] ))"
      ],
      "execution_count": 0,
      "outputs": []
    },
    {
      "cell_type": "code",
      "metadata": {
        "id": "A9-eI6y-zdhV",
        "colab_type": "code",
        "colab": {}
      },
      "source": [
        "# replace missing values with median (less sensitive to outliers)\n",
        "df_train['opened_position_qty '].fillna(df_train['opened_position_qty '].median(),inplace=True)\n",
        "df_test['opened_position_qty '].fillna(df_train['opened_position_qty '].median(),inplace=True)\n",
        "df_train['closed_position_qty'].fillna(df_train['closed_position_qty'].median(),inplace=True)\n",
        "df_test['closed_position_qty'].fillna(df_train['closed_position_qty'].median(), inplace=True)"
      ],
      "execution_count": 0,
      "outputs": []
    },
    {
      "cell_type": "code",
      "metadata": {
        "id": "_o3LclQOzg1X",
        "colab_type": "code",
        "colab": {}
      },
      "source": [
        "df = pd.concat([df_train,df_test],sort=False)"
      ],
      "execution_count": 0,
      "outputs": []
    },
    {
      "cell_type": "code",
      "metadata": {
        "id": "joKNoaDyziWP",
        "colab_type": "code",
        "colab": {}
      },
      "source": [
        "# engineer new features by grouping like features and computing statistics on them \n",
        "bids = ['bid1','bid2', 'bid3', 'bid4', 'bid5']\n",
        "bid_vols = ['bid1vol', 'bid2vol', 'bid3vol', 'bid4vol', 'bid5vol']\n",
        "asks = ['ask1', 'ask2', 'ask3', 'ask4', 'ask5',]\n",
        "ask_vols = ['ask1vol','ask2vol', 'ask3vol', 'ask4vol', 'ask5vol']\n",
        "mid2 = ['bid2', 'ask2']\n",
        "mid3 = ['bid3', 'ask3']\n",
        "mid4 = ['bid4', 'ask4']\n",
        "mid5 = ['bid5', 'ask5']\n",
        "\n",
        "group_cols = {\"bids\":bids,\"bid_vols\":bid_vols,\"asks\":asks,\"ask_vols\":ask_vols}\n",
        "group_cols2 = {\"mid2\":mid2, \"mid3\":mid3, \"mid4\":mid4, \"mid5\":mid5}"
      ],
      "execution_count": 0,
      "outputs": []
    },
    {
      "cell_type": "code",
      "metadata": {
        "id": "LqSvbP2kzj5L",
        "colab_type": "code",
        "colab": {}
      },
      "source": [
        "for group in group_cols.keys():\n",
        "    df[f\"{group}_max\"] = df[group_cols[group]].max(axis=1)\n",
        "    df[f\"{group}_avg\"] = df[group_cols[group]].mean(axis=1)\n",
        "    df[f\"{group}_std\"] = df[group_cols[group]].std(axis=1)\n",
        "    df[f\"{group}_min\"] = df[group_cols[group]].min(axis=1)\n",
        "    df[f\"{group}_spread\"] = df[f\"{group}_max\"].div(df[f\"{group}_min\"])\n",
        "  \n",
        "for group in group_cols2.keys():\n",
        "    # take average of bid/ask prices for 2,3,4,5\n",
        "    df[f\"{group}\"] = df[group_cols2[group]].mean(axis=1)\n",
        "      \n",
        "df[\"last_price/mid\"] = df[\"last_price\"].div(df[\"mid\"])"
      ],
      "execution_count": 0,
      "outputs": []
    },
    {
      "cell_type": "code",
      "metadata": {
        "id": "BTapR6GWzlSU",
        "colab_type": "code",
        "colab": {}
      },
      "source": [
        "# split into training and test sets\n",
        "x_train = df.loc[~df.y.isna()]\n",
        "y_train = x_train['y']\n",
        "x_train = x_train.drop(['y'], axis=1)\n",
        "x_test = df.loc[df.y.isna()]\n",
        "x_test = x_test.drop(['y'], axis=1)"
      ],
      "execution_count": 0,
      "outputs": []
    },
    {
      "cell_type": "code",
      "metadata": {
        "id": "7I-s2ekHzso5",
        "colab_type": "code",
        "colab": {}
      },
      "source": [
        "# Normalize data\n",
        "from sklearn import preprocessing\n",
        "\n",
        "# Normalize training data by subtracting mean and scaling to unit variance\n",
        "std_scale = preprocessing.StandardScaler().fit(x_train)\n",
        "x_train_norm = std_scale.transform(x_train)\n",
        "x_train = pd.DataFrame(x_train_norm, index=x_train.index, columns=x_train.columns)\n",
        "\n",
        "# Normalize testing data by using mean and SD of training set\n",
        "x_test_norm = std_scale.transform(x_test)\n",
        "x_test = pd.DataFrame(x_test_norm, index=x_test.index, columns=x_test.columns) "
      ],
      "execution_count": 0,
      "outputs": []
    },
    {
      "cell_type": "code",
      "metadata": {
        "id": "DY7gCP3zzvVL",
        "colab_type": "code",
        "colab": {}
      },
      "source": [
        "# Split training and validation data \n",
        "from sklearn.model_selection import train_test_split\n",
        "x_train, x_val, y_train, y_val = train_test_split(x_train, y_train, test_size=0.2)"
      ],
      "execution_count": 0,
      "outputs": []
    },
    {
      "cell_type": "code",
      "metadata": {
        "id": "5YVNZHRSz66v",
        "colab_type": "code",
        "colab": {}
      },
      "source": [
        "clf = RandomForestClassifier(n_estimators = 64, \n",
        "                       learning_rate = 0.1,\n",
        "                       max_depth=6,\n",
        "                       n_jobs=-1,\n",
        "                       )\n",
        "clf.fit(x_train, y_train, verbose=True)"
      ],
      "execution_count": 0,
      "outputs": []
    },
    {
      "cell_type": "code",
      "metadata": {
        "id": "seqyNZcx0Vc3",
        "colab_type": "code",
        "colab": {}
      },
      "source": [
        "from sklearn.ensemble import AdaBoostClassifier\n",
        "\n",
        "boosting = AdaBoostClassifier(base_estimator=clf, n_estimators=2)   \n",
        "boosting.fit(x_train, y_train)\n",
        "print(boosting.score(x_train, y_train))\n",
        "print(boosting3.score(x_val, y_val))"
      ],
      "execution_count": 0,
      "outputs": []
    },
    {
      "cell_type": "code",
      "metadata": {
        "id": "XIhSWfw00cXm",
        "colab_type": "code",
        "colab": {}
      },
      "source": [
        "y_pred = boosting.predict(x_val)\n",
        "false_positive_rate, true_positive_rate, thresholds = roc_curve(y_val, y_pred)\n",
        "roc_auc = auc(false_positive_rate, true_positive_rate)\n",
        "print('val auc: {}'.format(roc_auc))"
      ],
      "execution_count": 0,
      "outputs": []
    },
    {
      "cell_type": "code",
      "metadata": {
        "id": "wByWFgIJ0gUn",
        "colab_type": "code",
        "colab": {}
      },
      "source": [
        "from google.colab import drive\n",
        "drive.mount('/content/gdrive')\n",
        "#using model.save_weights() to save the weights of the model in HDF5 format\n",
        "df_test['Predicted'] = boosting.predict_proba(x_test)[:,1]\n",
        "df_test[[\"id\",\"Predicted\"]].to_csv('/content/gdrive/My Drive/submission_xgb5.csv', index=False)"
      ],
      "execution_count": 0,
      "outputs": []
    }
  ]
}