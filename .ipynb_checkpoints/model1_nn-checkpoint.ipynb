{
 "cells": [
  {
   "cell_type": "code",
   "execution_count": 1,
   "metadata": {},
   "outputs": [],
   "source": [
    "import numpy as np\n",
    "import pandas as pd\n",
    "import matplotlib.pyplot as plt\n",
    "%matplotlib inline"
   ]
  },
  {
   "cell_type": "code",
   "execution_count": 2,
   "metadata": {},
   "outputs": [
    {
     "name": "stderr",
     "output_type": "stream",
     "text": [
      "C:\\Users\\amanda\\Anaconda\\lib\\site-packages\\h5py\\__init__.py:36: FutureWarning: Conversion of the second argument of issubdtype from `float` to `np.floating` is deprecated. In future, it will be treated as `np.float64 == np.dtype(float).type`.\n",
      "  from ._conv import register_converters as _register_converters\n",
      "Using TensorFlow backend.\n"
     ]
    }
   ],
   "source": [
    "import tensorflow as tf\n",
    "from tensorflow.python.data import Dataset\n",
    "import keras\n",
    "from keras.utils import to_categorical\n",
    "from keras import models\n",
    "from keras import layers"
   ]
  },
  {
   "cell_type": "markdown",
   "metadata": {},
   "source": [
    "## Load and preprocess data "
   ]
  },
  {
   "cell_type": "code",
   "execution_count": 3,
   "metadata": {},
   "outputs": [],
   "source": [
    "df_train = pd.read_csv('train.csv', index_col=0)\n",
    "df_test = pd.read_csv('test.csv', index_col=0)"
   ]
  },
  {
   "cell_type": "code",
   "execution_count": 4,
   "metadata": {},
   "outputs": [
    {
     "name": "stdout",
     "output_type": "stream",
     "text": [
      "last_price                   0\n",
      "mid                          0\n",
      "opened_position_qty     120982\n",
      "closed_position_qty     120982\n",
      "transacted_qty               0\n",
      "d_open_interest              0\n",
      "bid1                         0\n",
      "bid2                         0\n",
      "bid3                         0\n",
      "bid4                         0\n",
      "bid5                         0\n",
      "ask1                         0\n",
      "ask2                         0\n",
      "ask3                         0\n",
      "ask4                         0\n",
      "ask5                         0\n",
      "bid1vol                      0\n",
      "bid2vol                      0\n",
      "bid3vol                      0\n",
      "bid4vol                      0\n",
      "bid5vol                      0\n",
      "ask1vol                      0\n",
      "ask2vol                      0\n",
      "ask3vol                      0\n",
      "ask4vol                      0\n",
      "ask5vol                      0\n",
      "y                            0\n",
      "dtype: int64\n",
      "last_price                  0\n",
      "mid                         0\n",
      "opened_position_qty     51478\n",
      "closed_position_qty     51478\n",
      "transacted_qty              0\n",
      "d_open_interest             0\n",
      "bid1                        0\n",
      "bid2                        0\n",
      "bid3                        0\n",
      "bid4                        0\n",
      "bid5                        0\n",
      "ask1                        0\n",
      "ask2                        0\n",
      "ask3                        0\n",
      "ask4                        0\n",
      "ask5                        0\n",
      "bid1vol                     0\n",
      "bid2vol                     0\n",
      "bid3vol                     0\n",
      "bid4vol                     0\n",
      "bid5vol                     0\n",
      "ask1vol                     0\n",
      "ask2vol                     0\n",
      "ask3vol                     0\n",
      "ask4vol                     0\n",
      "ask5vol                     0\n",
      "dtype: int64\n",
      "1.3345156490306558\n",
      "1.0\n",
      "1.9670248107878576\n",
      "1.0\n"
     ]
    }
   ],
   "source": [
    "# identify and replace missing values\n",
    "print(df_train.isnull().sum())\n",
    "print(df_test.isnull().sum())\n",
    "\n",
    "print(df_train['opened_position_qty '].mean())\n",
    "print(df_train['opened_position_qty '].median())\n",
    "\n",
    "print(df_train['closed_position_qty'].mean())\n",
    "print(df_train['closed_position_qty'].median())\n",
    "\n",
    "# replace missing values with median (less sensitive to outliers)\n",
    "df_train['opened_position_qty '].fillna(df_train['opened_position_qty '].median(),inplace=True)\n",
    "df_test['opened_position_qty '].fillna(df_train['opened_position_qty '].median(),inplace=True)\n",
    "df_train['closed_position_qty'].fillna(df_train['closed_position_qty'].median(),inplace=True)\n",
    "df_test['closed_position_qty'].fillna(df_train['closed_position_qty'].median(), inplace=True)"
   ]
  },
  {
   "cell_type": "code",
   "execution_count": 5,
   "metadata": {},
   "outputs": [],
   "source": [
    "# Normalize data\n",
    "from sklearn import preprocessing\n",
    "\n",
    "x_train = df_train[df_train.columns[:26]]\n",
    "y_train = df_train['y']\n",
    "x_test = df_test\n",
    "\n",
    "# Normalize training data by subtracting mean and scaling to unit variance\n",
    "std_scale = preprocessing.StandardScaler().fit(x_train)\n",
    "x_train_norm = std_scale.transform(x_train)\n",
    "x_train = pd.DataFrame(x_train_norm, index=x_train.index, columns=x_train.columns)\n",
    "\n",
    "# Normalize testing data by using mean and SD of training set\n",
    "x_test_norm = std_scale.transform(x_test)\n",
    "x_test = pd.DataFrame(x_test_norm, index=x_test.index, columns=x_test.columns) "
   ]
  },
  {
   "cell_type": "code",
   "execution_count": 6,
   "metadata": {},
   "outputs": [],
   "source": [
    "model = keras.Sequential([\n",
    " keras.layers.Dense(64, activation=tf.nn.relu, input_shape=(x_train.shape[1],)),\n",
    " keras.layers.Dense(128, activation=tf.nn.relu),\n",
    " keras.layers.Dense(256, activation=tf.nn.relu),\n",
    " keras.layers.Dense(512, activation=tf.nn.relu),\n",
    " keras.layers.Dense(2, activation=  'softmax')\n",
    " ])"
   ]
  },
  {
   "cell_type": "code",
   "execution_count": 7,
   "metadata": {},
   "outputs": [],
   "source": [
    "model.compile(optimizer=tf.train.AdamOptimizer(),\n",
    "              loss='sparse_categorical_crossentropy',\n",
    "              metrics=['accuracy'])"
   ]
  },
  {
   "cell_type": "code",
   "execution_count": 8,
   "metadata": {},
   "outputs": [
    {
     "name": "stdout",
     "output_type": "stream",
     "text": [
      "Epoch 1/30\n",
      "401223/401223 [==============================] - 25s 63us/step - loss: 0.6245 - acc: 0.6524\n",
      "Epoch 2/30\n",
      "401223/401223 [==============================] - 24s 60us/step - loss: 0.6215 - acc: 0.6548\n",
      "Epoch 3/30\n",
      "401223/401223 [==============================] - 24s 61us/step - loss: 0.6209 - acc: 0.6555\n",
      "Epoch 4/30\n",
      "401223/401223 [==============================] - 23s 57us/step - loss: 0.6204 - acc: 0.6559\n",
      "Epoch 5/30\n",
      "401223/401223 [==============================] - 25s 63us/step - loss: 0.6202 - acc: 0.6562\n",
      "Epoch 6/30\n",
      "401223/401223 [==============================] - 20s 50us/step - loss: 0.6199 - acc: 0.6564\n",
      "Epoch 7/30\n",
      "401223/401223 [==============================] - 24s 59us/step - loss: 0.6196 - acc: 0.6565\n",
      "Epoch 8/30\n",
      "401223/401223 [==============================] - 22s 55us/step - loss: 0.6194 - acc: 0.6568\n",
      "Epoch 9/30\n",
      "401223/401223 [==============================] - 19s 47us/step - loss: 0.6192 - acc: 0.6572\n",
      "Epoch 10/30\n",
      "401223/401223 [==============================] - 20s 51us/step - loss: 0.6188 - acc: 0.6575\n",
      "Epoch 11/30\n",
      "401223/401223 [==============================] - 22s 55us/step - loss: 0.6186 - acc: 0.6578\n",
      "Epoch 12/30\n",
      "401223/401223 [==============================] - 20s 49us/step - loss: 0.6183 - acc: 0.6586\n",
      "Epoch 13/30\n",
      "401223/401223 [==============================] - 27s 68us/step - loss: 0.6179 - acc: 0.6590\n",
      "Epoch 14/30\n",
      "401223/401223 [==============================] - 26s 64us/step - loss: 0.6177 - acc: 0.6585\n",
      "Epoch 15/30\n",
      "401223/401223 [==============================] - 30s 76us/step - loss: 0.6174 - acc: 0.6590\n",
      "Epoch 16/30\n",
      "401223/401223 [==============================] - 28s 70us/step - loss: 0.6170 - acc: 0.6590\n",
      "Epoch 17/30\n",
      "401223/401223 [==============================] - 24s 61us/step - loss: 0.6168 - acc: 0.6594\n",
      "Epoch 18/30\n",
      "401223/401223 [==============================] - 27s 68us/step - loss: 0.6162 - acc: 0.6602\n",
      "Epoch 19/30\n",
      "401223/401223 [==============================] - 29s 72us/step - loss: 0.6160 - acc: 0.6599\n",
      "Epoch 20/30\n",
      "401223/401223 [==============================] - 30s 74us/step - loss: 0.6155 - acc: 0.6605\n",
      "Epoch 21/30\n",
      "401223/401223 [==============================] - 29s 73us/step - loss: 0.6151 - acc: 0.6606\n",
      "Epoch 22/30\n",
      "401223/401223 [==============================] - 28s 69us/step - loss: 0.6146 - acc: 0.6613\n",
      "Epoch 23/30\n",
      "401223/401223 [==============================] - 28s 70us/step - loss: 0.6141 - acc: 0.6619\n",
      "Epoch 24/30\n",
      "401223/401223 [==============================] - 28s 71us/step - loss: 0.6138 - acc: 0.6621 0s - loss: 0.613\n",
      "Epoch 25/30\n",
      "401223/401223 [==============================] - 29s 73us/step - loss: 0.6131 - acc: 0.6631\n",
      "Epoch 26/30\n",
      "401223/401223 [==============================] - 27s 66us/step - loss: 0.6123 - acc: 0.6635\n",
      "Epoch 27/30\n",
      "401223/401223 [==============================] - 26s 65us/step - loss: 0.6119 - acc: 0.6637\n",
      "Epoch 28/30\n",
      "401223/401223 [==============================] - 27s 67us/step - loss: 0.6113 - acc: 0.6639\n",
      "Epoch 29/30\n",
      "401223/401223 [==============================] - 30s 74us/step - loss: 0.6106 - acc: 0.6642 1s - lo\n",
      "Epoch 30/30\n",
      "401223/401223 [==============================] - 28s 70us/step - loss: 0.6097 - acc: 0.6656\n"
     ]
    }
   ],
   "source": [
    "train_model = model.fit(\n",
    " x_train, y_train,\n",
    " epochs= 30, batch_size = 128)"
   ]
  },
  {
   "cell_type": "markdown",
   "metadata": {},
   "source": [
    "## Save results"
   ]
  },
  {
   "cell_type": "code",
   "execution_count": 9,
   "metadata": {},
   "outputs": [],
   "source": [
    "df_test['Predicted'] = model.predict_proba(x_test)[:,1]\n",
    "df_test[['Predicted']].to_csv('submission.csv')"
   ]
  }
 ],
 "metadata": {
  "kernelspec": {
   "display_name": "Python 3",
   "language": "python",
   "name": "python3"
  },
  "language_info": {
   "codemirror_mode": {
    "name": "ipython",
    "version": 3
   },
   "file_extension": ".py",
   "mimetype": "text/x-python",
   "name": "python",
   "nbconvert_exporter": "python",
   "pygments_lexer": "ipython3",
   "version": "3.6.5"
  }
 },
 "nbformat": 4,
 "nbformat_minor": 2
}
